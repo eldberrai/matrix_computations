{
  "cells": [
    {
      "cell_type": "markdown",
      "metadata": {
        "id": "q1e0_8K6GTkG"
      },
      "source": [
        "# Практическое ДЗ-2. Использование ALS для построения рекомендательной модели"
      ]
    },
    {
      "cell_type": "markdown",
      "metadata": {
        "id": "hy0CPB5oGTkI"
      },
      "source": [
        "В этой задаче мы построим простую рекомендательную модель на основе малоранговых приближений разреженных матриц."
      ]
    },
    {
      "cell_type": "code",
      "execution_count": 3,
      "metadata": {
        "id": "4rQ_Xh0zGTkI"
      },
      "outputs": [],
      "source": [
        "import numpy as np\n",
        "import scipy.sparse\n",
        "import matplotlib.pyplot as plt\n",
        "%matplotlib inline"
      ]
    },
    {
      "cell_type": "markdown",
      "metadata": {
        "id": "vJ0M75d1GTkI"
      },
      "source": [
        "### Подготовка датасета\n",
        "Загрузите датасет movielens10m с [grouplens.org](https://grouplens.org/datasets/movielens/10m/) или [disk.yandex.ru](https://disk.yandex.ru/d/HIjLehGZEcCRig) и положите архив в папку `data`. Нас будет интересовать файл `ratings.dat`, в котором собраны оценки пользователями различных фильмов с сервиса movielens.org. Вытащим этот файл из архива. Как можно узнать из соответствующей [странички](http://files.grouplens.org/datasets/movielens/ml-10m-README.html#file_desc), этот файл имеет формат `UserID::MovieID::Rating::Timestamp`. Сразу позаботимся, чтобы id пользователей и фильмов начинались с нуля (в самом файле индексация с единицы)."
      ]
    },
    {
      "cell_type": "code",
      "execution_count": 2,
      "metadata": {
        "id": "6ALFIBL2GTkJ",
        "scrolled": true
      },
      "outputs": [],
      "source": [
        "import zipfile\n",
        "user_ids = []\n",
        "movie_ids = []\n",
        "ratings = []\n",
        "with zipfile.ZipFile('data/ml-10m.zip') as archive:\n",
        "    with archive.open('ml-10M100K/ratings.dat') as f:\n",
        "        for l in f:\n",
        "            user, movie, rating, _ = l.split(b'::')\n",
        "            user_ids.append(int(user) - 1)\n",
        "            movie_ids.append(int(movie) - 1)\n",
        "            ratings.append(float(rating))"
      ]
    },
    {
      "cell_type": "markdown",
      "metadata": {
        "id": "FwlRKeriGTkJ"
      },
      "source": [
        "Составим матрицу рейтингов $A \\in \\mathbb R^{m \\times n}$, индексируемую номером пользователем и номером фильма.\n",
        "Для простоты мы будем делить отзывы только на положительные (`Rating >= 4` &mdash; $A_{i,j}=1$) и отрицательные (`Rating < 4` &mdash; $A_{i,j} = 0$), таким образом, матрица у нас получится состоящей только из нулей и единиц.\n",
        "Обратите внимание, что матрица будет разреженной, так как средний пользователь оценил относительно мало фильмов. Поэтому мы будем пользоваться библиотекой `scipy.sparse`. Хранить матрицу мы будем в формате хранения разреженных матриц [CSR](https://en.wikipedia.org/wiki/Sparse_matrix#Compressed_sparse_row_(CSR,_CRS_or_Yale_format)), который поддерживает матричное умножение на numpy массивы: ```A @ X ```."
      ]
    },
    {
      "cell_type": "code",
      "execution_count": 3,
      "metadata": {
        "id": "eFQAXNIFGTkJ",
        "scrolled": true
      },
      "outputs": [
        {
          "name": "stdout",
          "output_type": "stream",
          "text": [
            "Shape: (71567, 65133)\n",
            "Ratio of nonzero elements: 0.0010738646228571796\n"
          ]
        }
      ],
      "source": [
        "from scipy.sparse import csr_matrix\n",
        "A = csr_matrix((np.array(ratings) >= 4, (user_ids, movie_ids)), dtype=np.float32)\n",
        "A.eliminate_zeros()\n",
        "print(\"Shape:\", A.shape)\n",
        "print(\"Ratio of nonzero elements:\", A.nnz / (A.shape[0] * A.shape[1]))"
      ]
    },
    {
      "cell_type": "markdown",
      "metadata": {
        "id": "odCs6tjeGTkK"
      },
      "source": [
        "Отделим некоторое количество пользователей для последующей проверки. Используем стандартное разбиение train/test 80/20."
      ]
    },
    {
      "cell_type": "code",
      "execution_count": 4,
      "metadata": {
        "id": "UrN0pCEBGTkK"
      },
      "outputs": [],
      "source": [
        "n_users, n_movies = A.shape\n",
        "n_test = int(n_users * 0.2)\n",
        "n_train = n_users - n_test\n",
        "idx = np.arange(n_users)\n",
        "np.random.shuffle(idx)\n",
        "test_idx, train_idx = idx[:n_test], idx[n_test:]\n",
        "A_test, A_train = A[test_idx,:], A[train_idx,:]"
      ]
    },
    {
      "cell_type": "markdown",
      "metadata": {
        "id": "nH-aMFybGTkK"
      },
      "source": [
        "Далее в задаче мы будем строить рекомендации пользователям на основе малорангового приближения матрицы $A$ (матрицы $A_{train}$ в рамках обозначений выше). \n",
        "Обратим внимание, что из-за ограничений по памяти мы не можем сформировать матрицу $A$ в виде numpy массива, а значит теряем доступ к ```np.linalg.svd```. Поэтому мы будем реализовывать метод ALS, в котором требуется только умножение на матрицы $A$ и $A^\\top$, что поддерживается разреженными форматами хранения матриц (CSR, COO и тд).\n",
        "\n",
        "### a. (35 баллов) Вычисление вспомогательных функционалов\n",
        "\n",
        "  1. **(15 баллов)** Напомним, что в методе ALS решается задача минимизации функционала $f(U, V^\\top) = \\|A - UV^\\top\\|_F$ по всем $U \\in \\mathbb R^{m \\times r}$ и $V  \\in \\mathbb R^{n \\times r}$. Первым делом вам нужно будет написать функцию `als_functional` для вычисления оптимизируемого функционала $\\|A - UV^\\top\\|_F$ для заданных $A$, $U$, $V^\\top$. Заметьте, что прямое вычисление этой нормы &mdash; очень трудоёмкая задача, ведь разность будет плотной матрицей. Для того, чтобы эффективно вычислить норму разности, распишите $\\|A - UV^\\top\\|_F^2$ через скалярное произведение $\\langle X,Y \\rangle_F = \\mathrm{Tr}\\,(X^\\top Y)$, выполните алгебраические преобразования и покажите, как эффективно вычислить каждый член в полученном выражении. Для начала выведите необходимые формулы аналитически, а затем реализуйте их в коде. Ни на каком этапе вы не должны явно формировать плотные матрицы размеров `A.shape` (хотя numpy, скорее всего, и откажется аллоцировать 37 ГБ под такой массив).\n",
        "  \n",
        "  **Замечание**: не используйте циклы по ненулевым элементам разреженной матрицы $A$. Убедитесь, что в ваши формулы входит только умножение на матрицы $A$ или $A^\\top$, на которые можно умножать посредством @; либо умножения сложности $O(mr^2), O(nr^2)$. Также отметим, что норма матрицы $A$ уже дана, заново её вычислять не надо.  Везде считайте $r < m, n$."
      ]
    },
    {
      "cell_type": "markdown",
      "metadata": {},
      "source": [
        "$\\|A - UV^\\top\\|_F^2 = \\mathrm{Tr}((A-UV^\\top)^\\top(A-UV^\\top)) = \\mathrm{Tr}((A^\\top-VU^\\top)(A-UV^\\top)) = \\mathrm{Tr}(A^\\top A) - \\mathrm{Tr}(A^\\top UV^\\top) - \\mathrm{Tr}(VU^\\top A) + \\mathrm{Tr}(VU^\\top UV^\\top) = \\|A\\|_F^2 - 2\\mathrm{Tr}(VU^\\top A) + \\mathrm{Tr}((V^\\top V)(U^\\top U)) = \\boxed{\\|A\\|_F^2 - 2\\mathrm{Tr}(VU^\\top A) + \\mathrm{Tr}((V^\\top V)(U^\\top U))}$"
      ]
    },
    {
      "cell_type": "markdown",
      "metadata": {},
      "source": [
        "Специально поменяли в последнем элементы так чтобы получались матрицы $r \\times r$"
      ]
    },
    {
      "cell_type": "code",
      "execution_count": 62,
      "metadata": {
        "id": "SmeXXvh4GTkL"
      },
      "outputs": [],
      "source": [
        "def als_functional(A, A_norm, U, VT):\n",
        "    \"\"\"\n",
        "        Input\n",
        "            A: sparse 2D array\n",
        "            A_norm: Frobenius norm of A\n",
        "            U, VT: 2D arrays such that U @ VT approximates A\n",
        "        Output\n",
        "            ||A - U VT||_F\n",
        "    \"\"\"\n",
        "    \n",
        "    return np.sqrt(A_norm**2 - 2 * np.trace((VT @ A.T) @ U) + np.trace((VT @ VT.T) @ (U.T @ U)))"
      ]
    },
    {
      "cell_type": "markdown",
      "metadata": {
        "id": "tEQ_TfYC_Myv"
      },
      "source": [
        "**Замечание:** Если вы не сможете выполнить следующие два пункта, можете их пропустить. Они не являются обязательными для следующих заданий."
      ]
    },
    {
      "cell_type": "markdown",
      "metadata": {
        "id": "pynl_j3Q4EF5"
      },
      "source": [
        "  2. **(10 баллов)** *Расстоянием от подпространства* $L_1 \\subset \\mathbb{R}^m$ *до подпространства* $L_2 \\subset \\mathbb{R}^m$ будем называть число $\\|(I - P(L_1)) P(L_2)\\|_2$, где $P(L_i)$ &mdash; ортопроектор на $L_i$. Функция несимметричная, так что будьте осторожны с расстановкой аргументов. Опишите алгоритм вычисления расстояния от $\\mathrm{Im}(U_1)$ до $\\mathrm{Im}(U_2)$ для заданных матриц $U_1, U_2 \\in \\mathbb{R}^{m \\times r}$ с ортонормированными столбцами (т.е. $U_i^\\top U_i = I$). Алгоритм должен иметь сложность $O(mr^2)$. **Подсказка.** Воспользуйтесь техникой малоранговой арифметики, описанной на соответствующих лекции и семинаре."
      ]
    },
    {
      "cell_type": "markdown",
      "metadata": {},
      "source": [
        "$$\n",
        "P(U_1) = U_1 (U_1^\\top U_1)^{-1} U_1^\\top = U_1 U_1^\\top \\\\\n",
        "P(U_2) = U_2 (U_2^\\top U_2)^{-1} U_2^\\top = U_2 U_2^\\top\n",
        "$$\n",
        "\n",
        "$$\n",
        "\\|(I- U_1 U_1^\\top)U_2 U_2^\\top\\|_2 = \\|(I- U_1 U_1^\\top)U_2 U_2^\\top (U_2 \\ U_2^\\perp) \\|_2 =  \\|(I- U_1 U_1^\\top)U_2 (I \\ 0) \\|_2 = \\\\\n",
        "\n",
        "= \\|(I- U_1 U_1^\\top) (U_2 \\ 0) \\|_2\n",
        "$$"
      ]
    },
    {
      "cell_type": "markdown",
      "metadata": {},
      "source": [
        "Очевидно, что мы можем отбросить нули (при перемножении так и останутся правые $m-r$ столбцов нулевыми, что не повлияет на $2$ норму)"
      ]
    },
    {
      "cell_type": "markdown",
      "metadata": {},
      "source": [
        "$$\n",
        "\\|(I- U_1 U_1^\\top) (U_2 \\ 0) \\|_2 = \\|(I- U_1 U_1^\\top) U_2 \\|_2 = \\|(U_2 - U_1 U_1^\\top U_2) \\|_2 = \\|(U_2 - U_1 (U_1^\\top U_2)) \\|_2\n",
        "$$"
      ]
    },
    {
      "cell_type": "markdown",
      "metadata": {
        "id": "D3FlQJMG4NUo"
      },
      "source": [
        "  3. **(10 баллов)** Напишите функцию `dist_between_subspaces`, принимающую на вход матрицы $U_1, U_2 \\in \\mathbb{R}^{m\\times r}$ с ортонормированными столбцами, и возвращающую расстояние от $\\mathrm{Im}(U_1)$ до $\\mathrm{Im}(U_2)$. Сложность алгоритма должна быть $O(mr^2)$."
      ]
    },
    {
      "cell_type": "code",
      "execution_count": 10,
      "metadata": {
        "id": "H-5vadb0-pco"
      },
      "outputs": [],
      "source": [
        "def dist_between_subspaces(U1, U2):\n",
        "    \"\"\"\n",
        "        Input\n",
        "            U1, U2: matrices with orthonormal columns\n",
        "        Output\n",
        "            Distance from Im(U1) to Im(U2)\n",
        "    \"\"\"\n",
        "    return np.linalg.norm(U2 - U1 @ (U1.T @ U2), ord= 2)"
      ]
    },
    {
      "cell_type": "markdown",
      "metadata": {
        "id": "LLxAu8r9GTkM"
      },
      "source": [
        "### b. (30 баллов) Метод ALS\n",
        "Реализуйте метод ALS (alternating least squares) с ортогонализацией (см. лекции).\n",
        "\n",
        "Вам будет необходимо вернуть две матрицы: $U$ и $V^\\top$, образующие скелетное разложение результирующего приближения; где $U$ имеет ортонормированные столбцы. Также нужно вернуть 3 списка:\n",
        "\n",
        "\n",
        "*   Список значений функционала $f(U_k, V^\\top_k) = \\|A - U_k V^\\top_k\\|_F$\n",
        "\n",
        "*   Список изменений значений функционала $\\delta_k = f(U_{k-1}, V^\\top_{k-1}) - f(U_k, V^\\top_k)$\n",
        "\n",
        "*   Список растояний между пространствами $\\|(I - P(U_{k-1}))P(U_{k})\\|_2$\n",
        "\n",
        "В качестве критерия остановки будем использовать величину $\\delta_k$. При значении $\\delta_k \\le tolerance$ алгоритм должен остановиться. При указании `debug=True` печатайте номер текущей итерации и последнюю $\\delta_k$, а также любую дополнительную интересную вам информацию. \n",
        "\n",
        "Используйте реализованные выше функции. Для вычисления фробениусовой нормы разреженной матрицы используйте `norm` из `scipy.sparse.linalg`.\n",
        "\n",
        "**Замечание:** Если вы не реализовали dist_between_subspaces, то вместо третьего списка возращайте None."
      ]
    },
    {
      "cell_type": "code",
      "execution_count": 138,
      "metadata": {
        "id": "OSt2tZH9GTkM"
      },
      "outputs": [],
      "source": [
        "from scipy.sparse.linalg import norm as sparse_norm\n",
        "\n",
        "def ALS(A, rank, tolerance=1e-2, debug=False):\n",
        "    \"\"\"\n",
        "        Input\n",
        "            A: 2D m x n numpy array\n",
        "            rank: required rank of the approximation\n",
        "            tolerance: stop when delta_k is less or equal to it\n",
        "            debug: print debug information on each iteration\n",
        "            \n",
        "        Output\n",
        "            U, VT: m x rank, rank x n numpy arrays forming skeleton decomposition;\n",
        "                   columns of matrix U are orthonormal\n",
        "            fs: list of f(U_k, VT_k)\n",
        "            deltas: list of f(U_{k-1}, VT_{k-1}) - f(U_k, VT_k)\n",
        "            dists: list of distances from Im(U_{k-1}) and Im(U_k)\n",
        "    \"\"\"\n",
        "    A_norm = sparse_norm(A)\n",
        "    f = []\n",
        "    deltas = []\n",
        "    dist = []\n",
        "    H = np.random.randn(A.shape[0], rank)\n",
        "    Q_u = np.linalg.qr(H)[0]\n",
        "    H = np.random.randn(A.shape[1], rank)\n",
        "    V = np.linalg.qr(H)[0]\n",
        "    f.append(als_functional(A, A_norm, Q_u, V.T))\n",
        "    delta = 10**9\n",
        "    k = 0\n",
        "    while delta > tolerance:\n",
        "        U_old = Q_u\n",
        "        Q_u = np.linalg.qr(A @ V)[0]\n",
        "        V_f = A.T @ Q_u\n",
        "        V, R = np.linalg.qr(V_f)\n",
        "        f.append(als_functional(A, A_norm, Q_u, V_f.T))\n",
        "        delta = f[-2] - f[-1]\n",
        "        deltas.append(delta)\n",
        "        dist.append(dist_between_subspaces(U_old, Q_u))\n",
        "        k += 1\n",
        "        if debug:\n",
        "            print(k, delta)\n",
        "    return Q_u, V_f.T, f, deltas, dist\n",
        "        "
      ]
    },
    {
      "cell_type": "markdown",
      "metadata": {
        "id": "HYKGYPkGGTkM"
      },
      "source": [
        "Запустим метод на матрице `A_train` и посмотрим на убывание функционала от номера итерации."
      ]
    },
    {
      "cell_type": "code",
      "execution_count": 64,
      "metadata": {
        "id": "yma5t_5LGTkN"
      },
      "outputs": [
        {
          "name": "stdout",
          "output_type": "stream",
          "text": [
            "1 194.49946289713262\n",
            "2 146.98608083503973\n",
            "3 14.76771208382661\n",
            "4 4.310205882642322\n",
            "5 1.7728005041014967\n",
            "6 0.8841521574877333\n",
            "7 0.4978726527701838\n",
            "8 0.30534192206846456\n",
            "9 0.20068113206298221\n",
            "10 0.1404271627666276\n",
            "11 0.10429699941482795\n",
            "12 0.08201077153103142\n"
          ]
        },
        {
          "data": {
            "text/plain": [
              "[]"
            ]
          },
          "execution_count": 64,
          "metadata": {},
          "output_type": "execute_result"
        },
        {
          "data": {
            "image/png": "[encoded data removed]",
            "text/plain": [
              "<Figure size 1200x500 with 2 Axes>"
            ]
          },
          "metadata": {},
          "output_type": "display_data"
        }
      ],
      "source": [
        "rank = 30\n",
        "U_als, VT_als, fs, deltas, dists = ALS(A_train, rank, 0.1, debug=True)\n",
        "\n",
        "fig, axs = plt.subplots(figsize=(12, 5), ncols=2)\n",
        "\n",
        "axs[0].plot(fs)\n",
        "axs[1].plot(deltas)\n",
        "axs[1].semilogy()"
      ]
    },
    {
      "cell_type": "code",
      "execution_count": 65,
      "metadata": {
        "id": "9MDLeO4cFjCV"
      },
      "outputs": [
        {
          "data": {
            "text/plain": [
              "[<matplotlib.lines.Line2D at 0x1c091c64d00>]"
            ]
          },
          "execution_count": 65,
          "metadata": {},
          "output_type": "execute_result"
        },
        {
          "data": {
            "image/png": "[encoded data removed]",
            "text/plain": [
              "<Figure size 640x480 with 1 Axes>"
            ]
          },
          "metadata": {},
          "output_type": "display_data"
        }
      ],
      "source": [
        "# опционально\n",
        "\n",
        "plt.plot(dists)"
      ]
    },
    {
      "cell_type": "markdown",
      "metadata": {
        "id": "UA1WkWSIGTkN"
      },
      "source": [
        "### c. (10 баллов) Сравнение с рандомизированным SVD и разреженным SVD\n",
        "\n",
        "Примените рандомизированное SVD из sklearn, а также SVD из scipy, поддерживающее разреженные матрицы (используйте тот же ранг 30, что и для ALS). Сравните все три результата по значению функционала."
      ]
    },
    {
      "cell_type": "code",
      "execution_count": 66,
      "metadata": {
        "id": "71L_5u63GTkN"
      },
      "outputs": [
        {
          "name": "stdout",
          "output_type": "stream",
          "text": [
            "Randomised: 1640.0698865607358\n",
            "SVD: 1639.93383488583\n",
            "ALS: 1640.6868318141026\n"
          ]
        }
      ],
      "source": [
        "from sklearn.utils.extmath import randomized_svd\n",
        "from scipy.sparse.linalg import svds\n",
        "\n",
        "A_norm = sparse_norm(A_train)\n",
        "\n",
        "U, S, VT = randomized_svd(A_train, 30)\n",
        "\n",
        "print(\"Randomised:\", als_functional(A_train, A_norm, U, np.diag(S) @ VT))\n",
        "\n",
        "U, S, VT = svds(A_train, 30)\n",
        "\n",
        "print(\"SVD:\", als_functional(A_train, A_norm, U, np.diag(S) @ VT))\n",
        "\n",
        "\n",
        "print(\"ALS:\", fs[-1])\n"
      ]
    },
    {
      "cell_type": "markdown",
      "metadata": {},
      "source": [
        "Как видно все 3 дают почти идентичные результаты"
      ]
    },
    {
      "cell_type": "markdown",
      "metadata": {
        "id": "bmA27YeGGTkN"
      },
      "source": [
        "### d. (25 баллов) Построение рекомендаций\n",
        "  1. **(10 баллов)** Научимся рекомендовать пользователям из тестовой группы фильмы на основе части их оценок. Напишем функцию `recommend`, которая будет принимать матрицу $V$ из нашей модели, матрицу `(user_id, movie_id) -> binary rating` (то есть того же формата, что и наша основная матрица `A`), а также число `pred_am` &mdash; количество фильмов, которые мы хотим порекомендовать. Возвращать функция будет top-`pred_am` рекомендаций, то есть `pred_am` фильмов, которые могут пользователю понравиться, в порядке убывания предсказанной привлекательности.\n",
        "\n",
        "  Чтобы построить рекомендацию, необходимо ортогонально спроецировать вектор, соответствующий новому пользователю (про которого мы знаем часть оценок), на пространство $L$, образуемое строками матрицы $V^\\top$. Иными словами, мы должны взять ближайший вектор из $L$. Он будет содержать предсказанные нашей моделью рейтинги. Дальше дело техники :) Но не забудьте, что `score_mat` содержит векторы, соответствующие не одному пользователю, а батчу из `batch_size` пользователей. Хотя и (слава numpy) код остаётся почти дословно такой же. **Подсказка:** используйте функцию `np.argsort`."
      ]
    },
    {
      "cell_type": "code",
      "execution_count": 108,
      "metadata": {
        "id": "_WZrWySAGTkO"
      },
      "outputs": [],
      "source": [
        "def recommend(score_mat, pred_am, V):\n",
        "    \"\"\"\n",
        "        Input\n",
        "            score_mat: sparse batch_size x n_movies array\n",
        "            pred_am: requested number of recommendations\n",
        "            V: 2D numpy array\n",
        "            \n",
        "        Output\n",
        "            recs: batch_size x pred_am array of movies to recommend, with descending predicted rating\n",
        "    \"\"\"\n",
        "    Q, R = np.linalg.qr(V)\n",
        "    x = Q @ (Q.T @ score_mat.T)\n",
        "    x = (np.argsort(x, axis=0)[::-1])[:pred_am, :]\n",
        "    return x.T"
      ]
    },
    {
      "cell_type": "markdown",
      "metadata": {
        "id": "FgiVdYYAGTkO"
      },
      "source": [
        "Для проверки нашей модели для каждого пользователя из тестовой выборки оценим так называемый **hit rate**. Для этого выбросим одну из его оценок, вызовем функцию `recommend` и посмотрим, попал ли выкинутый фильм в подборку. Если попал &mdash; это hit, иначе не hit. Для того, чтобы эффективно проделать этот эксперимент на всех тестовых данных, сделаем следующее: разобьём тестовую матрицу на батчи по 500 пользователей и будем предсказывать сразу для целого батча. Вычислим вектор размера `n_test`, где для каждого пользователя указано, на каком месте в рекомендованной подборке оказался скрытый фильм (или число `n_recs`, если скрытого фильма не нашлось среди top-n  рекомендаций)."
      ]
    },
    {
      "cell_type": "code",
      "execution_count": 110,
      "metadata": {
        "id": "6tOq0553GTkO"
      },
      "outputs": [],
      "source": [
        "from scipy.sparse import find\n",
        "\n",
        "def evaluate_model(A_test, pred_am, V, batch_size=500):\n",
        "    \"\"\"\n",
        "        Input\n",
        "            A_test: sparse n_test x n_movies array corresponding to new users\n",
        "            pred_am: requested number of recommendations\n",
        "            V: 2D numpy array representing the rating model\n",
        "            batch_size: number of users to build recommendations for in a single call to recommend\n",
        "\n",
        "        Output\n",
        "            hit_idx: list of n_test ints: place of secret movie \n",
        "                     in top-pred_am recommendations (or pred_am if it is missing)\n",
        "    \"\"\"\n",
        "    secrets = []\n",
        "    nonempty_users = []\n",
        "    A_test = A_test.copy()\n",
        "    for user in range(A_test.shape[0]):\n",
        "        _, good, _ = find(A_test[user,:])\n",
        "        if len(good) == 0:\n",
        "            continue\n",
        "        nonempty_users.append(user)\n",
        "        secret = np.random.choice(good, 1)[0]\n",
        "        A_test[user, secret] = 0\n",
        "        secrets.append(secret)\n",
        "    hit_idx = []\n",
        "    for i in range(0, len(nonempty_users), batch_size):\n",
        "        # Build recomendations for a batch.\n",
        "        recommendations = recommend(A_test[nonempty_users[i:i + batch_size], :], pred_am + 1, V)\n",
        "        # Place secret in the last column so that the following .argmax finds it.\n",
        "        recommendations[:,-1] = secrets[i: i + batch_size]\n",
        "        # Find secret among the recommendations and place its index into batch_hit_idx.\n",
        "        batch_hit_idx = (recommendations == np.array([secrets[i:i + batch_size]]).T).argmax(1)\n",
        "        hit_idx += batch_hit_idx.tolist()\n",
        "    return hit_idx"
      ]
    },
    {
      "cell_type": "markdown",
      "metadata": {
        "id": "g2NZjgRdGTkP"
      },
      "source": [
        "  2. **(15 баллов)** Научимся вычислять hit rate для данной модели и заданного количества top-n рекомендаций. Для этого напишем функцию `get_hit_rates`, которая будет принимать $V$ из нашей модели, вектора оценок для новых пользователей `A_test` и список натуральных чисел `pred_ams`. Для каждого из этих чисел необходимо посчитать средний hit rate по всем пользователям из `A_test`, то есть, например, для `pred_ams == [5, 10, 20]` нужно вернуть список средних хитрейтов для top-5, top-10 и top-20. **Обратите внимание:** вызвать функцию `evaluate_model` нужно только один раз."
      ]
    },
    {
      "cell_type": "code",
      "execution_count": 134,
      "metadata": {
        "id": "jUW5e6IgGTkP"
      },
      "outputs": [],
      "source": [
        "def get_hit_rates(A_test, pred_ams, V):\n",
        "    \"\"\"\n",
        "        Input\n",
        "            A_test: sparse n_test x n_movies array corresponding to new users \n",
        "            pred_ams: list of ints: number of top recomendations to evaluate hit rate for\n",
        "            V: 2D numpy array representing the rating model\n",
        "        Output\n",
        "            hit_rates: list of float: hit rate for each element of n_recs\n",
        "    \n",
        "    \"\"\"\n",
        "    mat = evaluate_model(A_test, max(pred_ams), V)\n",
        "    ans = []\n",
        "    for num in pred_ams:\n",
        "        ans.append(1 - sum(1 for i in mat if i >= num)/len(mat))\n",
        "    return ans"
      ]
    },
    {
      "cell_type": "markdown",
      "metadata": {
        "id": "PRdKpRy2GTkP"
      },
      "source": [
        "Проверьте себя: вычислите хитрейт на top-10 рекомендаций для Sparse SVD ранга 30. Чтобы вычисления рекомендаций были побыстрее, используйте не всю матрицу `A_test`, а, например, первые 1000 строк. Хитрейт должен получится в районе 12-15%. Самое время подебажить своё решение, если числа сильно расходятся."
      ]
    },
    {
      "cell_type": "code",
      "execution_count": 135,
      "metadata": {
        "id": "elF_WFMOGTkP"
      },
      "outputs": [],
      "source": [
        "U, S, VT = svds(A_test[:1000, :], 30)"
      ]
    },
    {
      "cell_type": "code",
      "execution_count": 136,
      "metadata": {},
      "outputs": [
        {
          "data": {
            "text/plain": [
              "[0.13655030800821355]"
            ]
          },
          "execution_count": 136,
          "metadata": {},
          "output_type": "execute_result"
        }
      ],
      "source": [
        "get_hit_rates(A_test[:1000, :], [10], VT.T)"
      ]
    },
    {
      "cell_type": "markdown",
      "metadata": {
        "id": "S0qfki6qGTkQ"
      },
      "source": [
        "Теперь можно построить графики зависимости hit rate от количества рекомендаций, а также от ранга модели. Сравним результаты, которые дают три алгоритма: ALS, Sparse SVD и рандомизированный SVD."
      ]
    },
    {
      "cell_type": "code",
      "execution_count": 142,
      "metadata": {
        "id": "nEL4vVfyGTkQ"
      },
      "outputs": [
        {
          "data": {
            "image/png": "[encoded data removed]",
            "text/plain": [
              "<Figure size 2000x400 with 3 Axes>"
            ]
          },
          "metadata": {},
          "output_type": "display_data"
        }
      ],
      "source": [
        "from scipy.sparse.linalg import svds\n",
        "\n",
        "pred_ams = list(range(5, 101, 5))\n",
        "\n",
        "plt.rcParams.update({'font.size': 14})\n",
        "_, (ax_svd, ax_als, ax_rand) = plt.subplots(1,3,figsize=(20, 4),sharey=True)\n",
        "\n",
        "ax_svd.set_title(\"SVD\")\n",
        "ax_svd.set_ylabel(\"Hit rate\")\n",
        "ax_als.set_title(\"ALS\")\n",
        "ax_rand.set_title(\"Rand SVD\")\n",
        "for rank in [5, 25, 50]:\n",
        "    _, _, VT_svd = svds(A_train, k=rank)\n",
        "    _, VT_als, _, _, _ = ALS(A_train, rank)\n",
        "    _, _, VT_rand = randomized_svd(A_train, rank)\n",
        "    for VT, ax in zip([VT_svd, VT_als, VT_rand], [ax_svd, ax_als, ax_rand]):\n",
        "        ax.set_xlabel(\"Number of recomendations\")\n",
        "        hit_rates = get_hit_rates(A_test[:1000,:], pred_ams, VT.T)\n",
        "        line, = ax.plot(pred_ams, hit_rates)\n",
        "        line.set_label('rank = {}'.format(rank))\n",
        "        ax.legend()"
      ]
    },
    {
      "cell_type": "markdown",
      "metadata": {
        "id": "4Aw-QdjtGTkQ"
      },
      "source": [
        "Какой ранг приближения оказался оптимальным для нашей модели в случае каждого алгоритма?"
      ]
    },
    {
      "cell_type": "markdown",
      "metadata": {},
      "source": [
        "Для всех алгоритмов $r=25$ показал себя хорошо, в случае ALS, $r=50$ показал себя настолько же хорошо.\n",
        "\n",
        "Почему при увеличении $r$ hit rate не растет бесконечно? Дело как обычно в переобучении - мы начинаем слишком хорошо приближать матрицу оценок, а не смотреть на отдельные значимые компоненты. "
      ]
    },
    {
      "cell_type": "markdown",
      "metadata": {
        "id": "uKW0NkY2ci52"
      },
      "source": [
        "## Бонус. Higher-order SVD (100 баллов)"
      ]
    },
    {
      "cell_type": "markdown",
      "metadata": {
        "id": "sueW4YISk5Ga"
      },
      "source": [
        "**В бонусе разрешается использовать циклы только по размерности.**"
      ]
    },
    {
      "cell_type": "markdown",
      "metadata": {
        "id": "MlWRcHRfGTkQ"
      },
      "source": [
        "1. (**20 баллов**) Напишите функцию ```tuck2full(G, Us)```, возвращающую полный тензор размера $n_1\\times n_2 \\times \\ldots \\times n_d$ по его разложению Таккера. Предусмотрите, чтобы функция работала и в случае, если в матрицах $U_1,U_2, \\ldots, U_d$ строк меньше, чем столбцов. Вместо циклов используйте функцию ```np.einsum```."
      ]
    },
    {
      "cell_type": "code",
      "execution_count": 8,
      "metadata": {
        "id": "w-Oq1V5WGTkR"
      },
      "outputs": [],
      "source": [
        "def tuck2full(G, Us):\n",
        "    \"\"\"\n",
        "        Input\n",
        "            G: d-dimensional numpy array - Tucker core of size (r1, r2, ..., rd)\n",
        "            Us: tuple of 2D numpy arrays - Tucker factors of size (n1, r1), ..., (nd, rd)\n",
        "\n",
        "        Output\n",
        "            A: d-dimensional numpy array of the size (n1, n2, ..., nd)\n",
        "    \"\"\"\n",
        "    s1 = 'abcdefghijklm'\n",
        "    s2 = 'nopqrstuvwxyz'\n",
        "    q = ''\n",
        "    n = len(Us)\n",
        "    for i in range(n):\n",
        "        q += s1[i]\n",
        "    for i in range(n):\n",
        "        q+=','\n",
        "        q += s2[i]\n",
        "        q += s1[i]\n",
        "    q += '->'\n",
        "    for i in range(n):\n",
        "        q += s2[i]\n",
        "    # print(q)\n",
        "    return np.einsum(q, G, *Us)"
      ]
    },
    {
      "cell_type": "markdown",
      "metadata": {
        "id": "_fBi08IeGTkR"
      },
      "source": [
        "2. (**35 баллов**) Реализуйте higher-order SVD алгоритм для нахождения разложения Таккера данного $d$-мерного массива $A\\in\\mathbb{R}^{n_1\\times \\ldots \\times n_d}$. Алгоритм должен находить малоранговое приближение $A$ с относительной точностью не хуже $\\varepsilon$ во Фробениусовой норме. Функция должна вернуть ядро и факторы Таккера у приближающего тензора. Для получения ядра Таккера будет удобно воспользоваться функцией ```tuck2full```."
      ]
    },
    {
      "cell_type": "markdown",
      "metadata": {},
      "source": [
        "Напишем вспомогательную функцию возвращающую развертку $k$-того порядка"
      ]
    },
    {
      "cell_type": "code",
      "execution_count": 10,
      "metadata": {},
      "outputs": [],
      "source": [
        "def f_unfold(tensor, mode, _n):\n",
        "    return np.reshape(np.moveaxis(tensor, mode % _n, 0), (tensor.shape[mode % _n], -1), order='F')"
      ]
    },
    {
      "cell_type": "code",
      "execution_count": 14,
      "metadata": {
        "id": "5bmOtAq8GTkR"
      },
      "outputs": [],
      "source": [
        "def hosvd(A, eps):\n",
        "    \"\"\"\n",
        "        Input\n",
        "            A: 3D numpy array \n",
        "            eps: accuracy of Tucker approximation\n",
        "\n",
        "        Output\n",
        "            G: d-dimensional numpy array - Tucker core of size (r1, r2, ..., rd)\n",
        "            Us: tuple of 2D numpy arrays - Tucker factors of size (n1, r1), ..., (nd, rd)\n",
        "    \"\"\"\n",
        "    A_norm = np.linalg.norm(A)\n",
        "    k = 5\n",
        "    err = 10 ** 9\n",
        "    Us = []\n",
        "    Qq = []\n",
        "    for i in range(0, len(np.shape(A))):\n",
        "        Us.append((np.linalg.svd(f_unfold(A, i, len(np.shape(A))), full_matrices=False)[0]).T)\n",
        "        print(f'Us[{i}] formed')\n",
        "        Qq.append(0)\n",
        "    G = tuck2full(A, Us)\n",
        "    print('G formed')\n",
        "    while err > eps:\n",
        "        for i in range(len(Us)):\n",
        "            Qq[i] = (Us[i].T)[:, :k]\n",
        "        if len(Us) == 3:\n",
        "           G_w = G[:k, :k, :k]\n",
        "        if len(Us) == 4:\n",
        "           G_w = G[:k, :k, :k, :k]\n",
        "        # print('G[::::], Us[:, :k] are formed')\n",
        "        # print(np.array(G_w).shape, Qq[0].shape, Qq[1].shape, Qq[2].shape, Qq[3].shape)\n",
        "        A_ans = tuck2full(G_w, Qq)\n",
        "        err = np.linalg.norm(A - A_ans)\n",
        "        print(f'k = {k}, error = {err}, relative error = {err/A_norm}')\n",
        "        k_old = k\n",
        "        k = int((3 * k + max(np.shape(A)))/4)\n",
        "        if k == k_old:\n",
        "            k += 1\n",
        "    return G_w, Qq\n",
        "        "
      ]
    },
    {
      "cell_type": "markdown",
      "metadata": {
        "id": "KU-1RaGcGTkR"
      },
      "source": [
        "3. (**5 баллов**) Примените функцию ```hosvd``` к тензору размера $25 \\times 50 \\times 75 \\times 100$ с элементами\n",
        "$$\n",
        "    a_{ijkl} = \\frac{1}{i + j + k + l + 1}, \\quad i,j,k,l=0,1,...\n",
        "$$\n",
        "для малорангового приближения с точностью $10^{-6}$. Массив $A$ соберите с помощью функции ```np.meshgrid```. Напечатайте получившиеся ранги и относительную ошибку полученного малорангового приближения (для этого используйте функцию ```tuck2full```)."
      ]
    },
    {
      "cell_type": "markdown",
      "metadata": {},
      "source": [
        "Для требуемых размеров оно работает слииииишком долго, так что вот код, но он работал несколько часов и так не построил G"
      ]
    },
    {
      "cell_type": "code",
      "execution_count": 5,
      "metadata": {
        "id": "Op7t7XOpGTkR"
      },
      "outputs": [],
      "source": [
        "i = np.arange(0, 25)\n",
        "j = np.arange(0, 50)\n",
        "k = np.arange(0, 75)\n",
        "l = np.arange(0, 100)\n",
        "i, j, k, l = np.meshgrid(j, i, k, l)\n",
        "A = 1/(i + j + k + l + 1)"
      ]
    },
    {
      "cell_type": "code",
      "execution_count": 6,
      "metadata": {},
      "outputs": [
        {
          "name": "stdout",
          "output_type": "stream",
          "text": [
            "Us[0] is formed\n",
            "Us[1] is formed\n",
            "Us[2] is formed\n",
            "Us[3] is formed\n"
          ]
        }
      ],
      "source": [
        "G, Us = hosvd(A, 0.000001)"
      ]
    },
    {
      "cell_type": "markdown",
      "metadata": {},
      "source": [
        "А вот размер, для которого оно посчиталось, могу поставить считаться и закинуть предыдущее после дд"
      ]
    },
    {
      "cell_type": "code",
      "execution_count": 15,
      "metadata": {},
      "outputs": [],
      "source": [
        "i = np.arange(0, 7)\n",
        "j = np.arange(0, 14)\n",
        "k = np.arange(0, 21)\n",
        "l = np.arange(0, 28)\n",
        "i, j, k, l = np.meshgrid(j, i, k, l)\n",
        "A = 1/(i + j + k + l + 1)"
      ]
    },
    {
      "cell_type": "code",
      "execution_count": 17,
      "metadata": {},
      "outputs": [
        {
          "name": "stdout",
          "output_type": "stream",
          "text": [
            "Us[0] formed\n",
            "Us[1] formed\n",
            "Us[2] formed\n",
            "Us[3] formed\n",
            "G formed\n",
            "k = 5, error = 0.0013508838891344026, relative error = 0.00014568568677290105\n",
            "k = 10, error = 5.33803360171383e-09, relative error = 5.756787075022472e-10\n"
          ]
        }
      ],
      "source": [
        "G, Us = hosvd(A, 0.000001)"
      ]
    },
    {
      "cell_type": "markdown",
      "metadata": {
        "id": "mEYomrX1i0gC"
      },
      "source": [
        "4. (**15 баллов**) Докажите, что норма Фробениуса приближения HOSVD $A'$ совпадает с её ядром Таккера $G'$:\n",
        "\n",
        "$$\n",
        "  \\|A'\\|_F = \\|G'\\|_F\n",
        "$$"
      ]
    },
    {
      "cell_type": "markdown",
      "metadata": {
        "id": "gJ7oLmRvjRis"
      },
      "source": [
        "Докажем для тензора размерности $3$, для остальных аналогично.\n",
        "\n",
        "Пусть $U, V, W$ - унитарные матрицы, тогда $A = [G; U, V, W]$"
      ]
    },
    {
      "cell_type": "markdown",
      "metadata": {},
      "source": [
        "$$\n",
        "A_{ijk} = \\sum_{a=1}^{r_1}\\sum_{b=1}^{r_2}\\sum_{c=1}^{r_3} G_{abc} U_{ia} V_{jb} W_{kc} = \\sum_{a=1}^{r_1} U_{ia} \\sum_{b=1}^{r_2} V_{jb} \\sum_{c=1}^{r_3} G_{abc} W_{kc}\n",
        "$$"
      ]
    },
    {
      "cell_type": "markdown",
      "metadata": {
        "id": "bChF9TCnkhxc"
      },
      "source": [
        "5. (**25 баллов**) Для заданного таккеровского разложения напишите функцию вычисления его нормы. Примените ее к разложению тензора размера 10000 x 10000 x 10000 со случайными Таккеровскими факторами и ядром мультилинейного ранга (10, 10, 10)."
      ]
    },
    {
      "cell_type": "code",
      "execution_count": null,
      "metadata": {
        "id": "XtAEo92Tllxz"
      },
      "outputs": [],
      "source": [
        "def tuck_norm(G, Us):\n",
        "    \"\"\"\n",
        "        Input\n",
        "            G: d-dimensional numpy array - Tucker core of size (r1, r2, ..., rd)\n",
        "            Us: tuple of 2D numpy arrays - Tucker factors of size (n1, r1), ..., (nd, rd)\n",
        "\n",
        "        Output\n",
        "            norm: Frobenius norm of A = [G; U1 ... Ud]\n",
        "    \"\"\"\n",
        "    # TO BE FILLED\n",
        "    raise NotImplementedError()"
      ]
    }
  ],
  "metadata": {
    "colab": {
      "collapsed_sections": [],
      "name": "Copy of hw2_practice_fmatcomp22.ipynb",
      "provenance": []
    },
    "kernelspec": {
      "display_name": "Python 3",
      "language": "python",
      "name": "python3"
    },
    "language_info": {
      "codemirror_mode": {
        "name": "ipython",
        "version": 3
      },
      "file_extension": ".py",
      "mimetype": "text/x-python",
      "name": "python",
      "nbconvert_exporter": "python",
      "pygments_lexer": "ipython3",
      "version": "3.10.2"
    }
  },
  "nbformat": 4,
  "nbformat_minor": 0
}
